{
 "cells": [
  {
   "cell_type": "code",
   "execution_count": 37,
   "id": "a98e60dc",
   "metadata": {},
   "outputs": [],
   "source": [
    "import pandas as pd\n",
    "from sklearn.preprocessing import StandardScaler\n",
    "from sklearn.model_selection import train_test_split\n",
    "from sklearn.linear_model import LogisticRegression\n",
    "from joblib import dump, load\n",
    "from sklearn.decomposition import PCA\n",
    "import sklearn.metrics "
   ]
  },
  {
   "cell_type": "code",
   "execution_count": 38,
   "id": "5711ea23",
   "metadata": {},
   "outputs": [
    {
     "name": "stderr",
     "output_type": "stream",
     "text": [
      "/var/folders/tc/3zj6b_yn0db6yslr5bqvsvm00000gn/T/ipykernel_41891/3931707555.py:2: DtypeWarning: Columns (25) have mixed types. Specify dtype option on import or set low_memory=False.\n",
      "  sheet = pd.read_csv('/Users/az/Desktop/training_data.csv')\n"
     ]
    }
   ],
   "source": [
    "logreg = load('jame.joblib') \n",
    "sheet = pd.read_csv('/Users/az/Desktop/training_data.csv')"
   ]
  },
  {
   "cell_type": "code",
   "execution_count": 39,
   "id": "20fd6e6e",
   "metadata": {},
   "outputs": [],
   "source": [
    "customer = sheet.loc[:, ['Customer']]\n",
    "service=sheet.loc[:,['service_repair']] #testing Var\n",
    "service= service.fillna(0)\n",
    "columns_to_drop = ['Customer', 'clli','objectName','objectType','service_repair','REPORT_DATE']\n",
    "sheet = sheet.drop(columns_to_drop,axis=1)\n",
    "sheet= sheet.fillna(0)\n",
    "df = pd.DataFrame(sheet)\n"
   ]
  },
  {
   "cell_type": "code",
   "execution_count": 40,
   "id": "89802787",
   "metadata": {},
   "outputs": [
    {
     "data": {
      "text/plain": [
       "(63075, 40)"
      ]
     },
     "execution_count": 40,
     "metadata": {},
     "output_type": "execute_result"
    }
   ],
   "source": [
    "def convert_to_int(value):\n",
    "    try:\n",
    "        return float(value)  # Convert numeric values to int\n",
    "    except:\n",
    "        return sum(ord(char) for char in value)\n",
    "\n",
    "df = df.applymap(convert_to_int)\n",
    "\n",
    "scaler = StandardScaler()\n",
    "scaler.fit(df)\n",
    "scaled_data = scaler.transform(df)\n",
    "pca = PCA(n_components=40)\n",
    "pca.fit(scaled_data)\n",
    "x_pca = pca.transform(scaled_data)\n",
    "scaled_data.shape\n",
    "x_pca.shape"
   ]
  },
  {
   "cell_type": "code",
   "execution_count": 43,
   "id": "a77745e5",
   "metadata": {
    "scrolled": true
   },
   "outputs": [
    {
     "data": {
      "text/plain": [
       "0.9569242964724535"
      ]
     },
     "execution_count": 43,
     "metadata": {},
     "output_type": "execute_result"
    }
   ],
   "source": [
    "logreg.score(x_pca,service)"
   ]
  },
  {
   "cell_type": "code",
   "execution_count": 41,
   "id": "bcbb23b8",
   "metadata": {
    "scrolled": true
   },
   "outputs": [
    {
     "data": {
      "text/plain": [
       "'\\nimport matplotlib.pyplot as plt\\nimport numpy as np\\nimport pandas as pd\\nimport seaborn as sns\\nimport warnings\\nfrom pylab import rcParams\\nfrom sklearn.linear_model import LogisticRegression\\nfrom sklearn.metrics import accuracy_score\\nfrom sklearn.metrics import precision_score, recall_score\\nfrom sklearn.metrics import f1_score, roc_auc_score, roc_curve\\nfrom sklearn.model_selection import train_test_split\\nfrom sklearn.model_selection import GridSearchCV\\n\\ndef generate_auc_roc_curve(clf, X_test):\\n    y_pred_proba = clf.predict_proba(X_test)[:, 1]\\n    fpr, tpr, thresholds = roc_curve(service, service)\\n    auc = roc_auc_score(service, service)\\n    plt.plot(fpr,tpr,label=\"AUC ROC Curve with Area Under the curve =\"+str(auc))\\n    plt.legend(loc=4)\\n    plt.show()\\n    pass\\n\\nlogreg.score(x_pca,service)\\ngenerate_auc_roc_curve(logreg, x_pca)\\n'"
      ]
     },
     "execution_count": 41,
     "metadata": {},
     "output_type": "execute_result"
    }
   ],
   "source": [
    "'''\n",
    "import matplotlib.pyplot as plt\n",
    "import numpy as np\n",
    "import pandas as pd\n",
    "import seaborn as sns\n",
    "import warnings\n",
    "from pylab import rcParams\n",
    "from sklearn.linear_model import LogisticRegression\n",
    "from sklearn.metrics import accuracy_score\n",
    "from sklearn.metrics import precision_score, recall_score\n",
    "from sklearn.metrics import f1_score, roc_auc_score, roc_curve\n",
    "from sklearn.model_selection import train_test_split\n",
    "from sklearn.model_selection import GridSearchCV\n",
    "\n",
    "def generate_auc_roc_curve(clf, X_test):\n",
    "    y_pred_proba = clf.predict_proba(X_test)[:, 1]\n",
    "    fpr, tpr, thresholds = roc_curve(service, service)\n",
    "    auc = roc_auc_score(service, service)\n",
    "    plt.plot(fpr,tpr,label=\"AUC ROC Curve with Area Under the curve =\"+str(auc))\n",
    "    plt.legend(loc=4)\n",
    "    plt.show()\n",
    "    pass\n",
    "\n",
    "\n",
    "'''"
   ]
  },
  {
   "cell_type": "code",
   "execution_count": null,
   "id": "e1e159fa",
   "metadata": {},
   "outputs": [],
   "source": []
  }
 ],
 "metadata": {
  "kernelspec": {
   "display_name": "Python 3 (ipykernel)",
   "language": "python",
   "name": "python3"
  },
  "language_info": {
   "codemirror_mode": {
    "name": "ipython",
    "version": 3
   },
   "file_extension": ".py",
   "mimetype": "text/x-python",
   "name": "python",
   "nbconvert_exporter": "python",
   "pygments_lexer": "ipython3",
   "version": "3.9.12"
  }
 },
 "nbformat": 4,
 "nbformat_minor": 5
}
