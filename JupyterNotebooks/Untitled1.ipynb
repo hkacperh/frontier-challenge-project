{
 "cells": [
  {
   "cell_type": "code",
   "execution_count": 72,
   "id": "eaa60c7b",
   "metadata": {},
   "outputs": [],
   "source": [
    "#https://github.com/krishnaik06/Dimesnsionality-Reduction/blob/master/01-Principal%20Component%20Analysis.ipynb\n",
    "import matplotlib.pyplot as plt\n",
    "import pandas as pd\n",
    "import numpy as np\n",
    "import seaborn as sns\n",
    "%matplotlib inline"
   ]
  },
  {
   "cell_type": "code",
   "execution_count": 73,
   "id": "c3d0a3fb",
   "metadata": {},
   "outputs": [
    {
     "name": "stderr",
     "output_type": "stream",
     "text": [
      "/var/folders/tc/3zj6b_yn0db6yslr5bqvsvm00000gn/T/ipykernel_36995/966905595.py:2: DtypeWarning: Columns (25) have mixed types. Specify dtype option on import or set low_memory=False.\n",
      "  sheet = pd.read_csv('/Users/az/Desktop/training_data.csv')\n"
     ]
    }
   ],
   "source": [
    "from sklearn.datasets import load_breast_cancer\n",
    "sheet = pd.read_csv('/Users/az/Desktop/training_data.csv')\n",
    "tests = pd.read_csv('/Users/az/Desktop/test_data.csv')"
   ]
  },
  {
   "cell_type": "code",
   "execution_count": 74,
   "id": "ac1f75f2",
   "metadata": {},
   "outputs": [
    {
     "name": "stdout",
     "output_type": "stream",
     "text": [
      "['REPORT_DATE', 'service_repair']\n"
     ]
    }
   ],
   "source": [
    "set_difference = set(sheet) - set(tests)\n",
    "list_difference_result = list(set_difference)\n",
    "print(list_difference_result)"
   ]
  },
  {
   "cell_type": "code",
   "execution_count": 75,
   "id": "856c8a66",
   "metadata": {
    "scrolled": false
   },
   "outputs": [
    {
     "name": "stdout",
     "output_type": "stream",
     "text": [
      "['REPORT_DATE', 'service_repair']\n",
      "       service_repair\n",
      "0                 0.0\n",
      "1                 0.0\n",
      "2                 0.0\n",
      "3                 0.0\n",
      "4                 0.0\n",
      "...               ...\n",
      "63070             0.0\n",
      "63071             0.0\n",
      "63072             0.0\n",
      "63073             0.0\n",
      "63074             0.0\n",
      "\n",
      "[63075 rows x 1 columns]\n"
     ]
    }
   ],
   "source": [
    "\n",
    "\n",
    "print(list_difference_result)\n",
    "\n",
    "customer = sheet.loc[:, ['Customer']]\n",
    "service=sheet.loc[:,['service_repair']] #testing Var\n",
    "#print (customer)\n",
    "\n",
    "service= service.fillna(0)\n",
    "print(service)"
   ]
  },
  {
   "cell_type": "code",
   "execution_count": 76,
   "id": "8681e750",
   "metadata": {
    "scrolled": true
   },
   "outputs": [
    {
     "name": "stdout",
     "output_type": "stream",
     "text": [
      "       year  month  day        date  rack  shelf  slot  port  ont  \\\n",
      "0      2023      7   30  2023-07-30     1      1    14     2   43   \n",
      "1      2023      7   30  2023-07-30     1      1    14     2   37   \n",
      "2      2023      7   30  2023-07-30     1      1    18     2   41   \n",
      "3      2023      7   30  2023-07-30     1      1    13     2   10   \n",
      "4      2023      7   30  2023-07-30     1      1    13     4   12   \n",
      "...     ...    ...  ...         ...   ...    ...   ...   ...  ...   \n",
      "63070  2023      7    7  2023-07-07     1      1     4     7    6   \n",
      "63071  2023      7   31  2023-07-31     1      1     4    15   18   \n",
      "63072  2023      7   30  2023-07-30     1      1     4     5   10   \n",
      "63073  2023      7   15  2023-07-15     1      1     1     4    5   \n",
      "63074  2023      7   20  2023-07-20     1      1     6     3   12   \n",
      "\n",
      "       berDownstream  ...  Alarm_SECS  Session_SECS  total_stops  \\\n",
      "0                0.0  ...           0         86400            0   \n",
      "1                0.0  ...           0         86400            0   \n",
      "2                0.0  ...           0         86400            0   \n",
      "3                0.0  ...           0         86400            0   \n",
      "4                0.0  ...           0         86400            0   \n",
      "...              ...  ...         ...           ...          ...   \n",
      "63070            0.0  ...           0         86400            0   \n",
      "63071            0.0  ...           0         86400            0   \n",
      "63072            0.0  ...           0         86400            0   \n",
      "63073            0.0  ...           0         86400            0   \n",
      "63074            0.0  ...           0         86400            0   \n",
      "\n",
      "       TSO_calls_count  SA_TSO  score    TMAX   TMIN PRCP SNOW  \n",
      "0                  0.0       0      3  102.02  80.06  0.0  0.0  \n",
      "1                  0.0       0      3  102.02  80.06  0.0  0.0  \n",
      "2                  0.0       0      3  102.02  80.06  0.0  0.0  \n",
      "3                  0.0       0      3  102.02  80.06  0.0  0.0  \n",
      "4                  0.0       0      3  102.02  80.06  0.0  0.0  \n",
      "...                ...     ...    ...     ...    ...  ...  ...  \n",
      "63070              0.0       0      2  105.98  77.00  0.0  0.0  \n",
      "63071              0.0       0      3   80.96  59.00  0.0  0.0  \n",
      "63072              0.0       0      3   77.00  60.98  0.0  0.0  \n",
      "63073              0.0       0      3   98.96  77.00  0.0  0.0  \n",
      "63074              0.0       0      3   98.06  69.98  0.0  0.0  \n",
      "\n",
      "[63075 rows x 54 columns]\n"
     ]
    }
   ],
   "source": [
    "#cancer = load_breast_cancer()\n",
    "columns_to_drop = ['Customer', 'clli','objectName','objectType','service_repair','REPORT_DATE']\n",
    "\n",
    "\n",
    "sheet = sheet.drop(columns_to_drop,axis=1)\n",
    "sheet= sheet.fillna(0)\n",
    "\n",
    "\n",
    "\n",
    "#print(sheet.loc[:, df.columns != 'Customer'])\n",
    "print(sheet)"
   ]
  },
  {
   "cell_type": "code",
   "execution_count": 77,
   "id": "4a73b27d",
   "metadata": {
    "scrolled": true
   },
   "outputs": [
    {
     "data": {
      "text/plain": [
       "Index(['year', 'month', 'day', 'date', 'rack', 'shelf', 'slot', 'port', 'ont',\n",
       "       'berDownstream', 'berUpstream', 'networkRxLevel', 'modelRxLevel',\n",
       "       'modemTxLevel', 'distance', 'opticalTemperature', 'opticalVoltage',\n",
       "       'modemType', 'status', 'ranged', 'laserBiasThreshold',\n",
       "       'laserBiasCurrent', 'videoAniAgcModePlanned', 'videoAniAgcSetting',\n",
       "       'videoAniOpInfoOpticalSignalLevel',\n",
       "       'videoAniOpInfoOpticalSignalLevelDbm', 'videoAniOpInfoRfPowerLevel',\n",
       "       'videoAniOperState', 'speedProfile', 'Stops_null', 'Stops_Admin-Reset',\n",
       "       'Stops_Idle-Timeout', 'Stops_Lost-Carrier', 'Stops_Lost-Service',\n",
       "       'Stops_NAS-Error', 'Stops_NAS-Request', 'Stops_Port-Error',\n",
       "       'Stops_Service-Unavailable', 'Stops_Session-Timeout',\n",
       "       'Stops_User-Error', 'Stops_User-Request', 'INTENT',\n",
       "       'CALLCOMPLETIONREASON', 'alarms', 'Alarm_SECS', 'Session_SECS',\n",
       "       'total_stops', 'TSO_calls_count', 'SA_TSO', 'score', 'TMAX', 'TMIN',\n",
       "       'PRCP', 'SNOW'],\n",
       "      dtype='object')"
      ]
     },
     "execution_count": 77,
     "metadata": {},
     "output_type": "execute_result"
    }
   ],
   "source": [
    "#cancer.keys()\n",
    "sheet.keys()"
   ]
  },
  {
   "cell_type": "code",
   "execution_count": 78,
   "id": "f2de147a",
   "metadata": {},
   "outputs": [],
   "source": [
    "#print(cancer)\n",
    "#print(cancer['feature_names'])\n",
    "#print(sheet['Customer'])"
   ]
  },
  {
   "cell_type": "code",
   "execution_count": 79,
   "id": "5a229ae9",
   "metadata": {
    "scrolled": true
   },
   "outputs": [],
   "source": [
    "#lf = pd.DataFrame(cancer['data'],columns=cancer['feature_names'])\n",
    "#print (lf)\n",
    "#(['DESCR', 'data', 'feature_names', 'target_names', 'target'])\n",
    "df = pd.DataFrame(sheet)\n",
    "#print(df)"
   ]
  },
  {
   "cell_type": "code",
   "execution_count": 80,
   "id": "48c0d0fd",
   "metadata": {
    "scrolled": true
   },
   "outputs": [
    {
     "data": {
      "text/html": [
       "<div>\n",
       "<style scoped>\n",
       "    .dataframe tbody tr th:only-of-type {\n",
       "        vertical-align: middle;\n",
       "    }\n",
       "\n",
       "    .dataframe tbody tr th {\n",
       "        vertical-align: top;\n",
       "    }\n",
       "\n",
       "    .dataframe thead th {\n",
       "        text-align: right;\n",
       "    }\n",
       "</style>\n",
       "<table border=\"1\" class=\"dataframe\">\n",
       "  <thead>\n",
       "    <tr style=\"text-align: right;\">\n",
       "      <th></th>\n",
       "      <th>year</th>\n",
       "      <th>month</th>\n",
       "      <th>day</th>\n",
       "      <th>date</th>\n",
       "      <th>rack</th>\n",
       "      <th>shelf</th>\n",
       "      <th>slot</th>\n",
       "      <th>port</th>\n",
       "      <th>ont</th>\n",
       "      <th>berDownstream</th>\n",
       "      <th>...</th>\n",
       "      <th>Alarm_SECS</th>\n",
       "      <th>Session_SECS</th>\n",
       "      <th>total_stops</th>\n",
       "      <th>TSO_calls_count</th>\n",
       "      <th>SA_TSO</th>\n",
       "      <th>score</th>\n",
       "      <th>TMAX</th>\n",
       "      <th>TMIN</th>\n",
       "      <th>PRCP</th>\n",
       "      <th>SNOW</th>\n",
       "    </tr>\n",
       "  </thead>\n",
       "  <tbody>\n",
       "    <tr>\n",
       "      <th>0</th>\n",
       "      <td>2023</td>\n",
       "      <td>7</td>\n",
       "      <td>30</td>\n",
       "      <td>2023-07-30</td>\n",
       "      <td>1</td>\n",
       "      <td>1</td>\n",
       "      <td>14</td>\n",
       "      <td>2</td>\n",
       "      <td>43</td>\n",
       "      <td>0.0</td>\n",
       "      <td>...</td>\n",
       "      <td>0</td>\n",
       "      <td>86400</td>\n",
       "      <td>0</td>\n",
       "      <td>0.0</td>\n",
       "      <td>0</td>\n",
       "      <td>3</td>\n",
       "      <td>102.02</td>\n",
       "      <td>80.06</td>\n",
       "      <td>0.0</td>\n",
       "      <td>0.0</td>\n",
       "    </tr>\n",
       "    <tr>\n",
       "      <th>1</th>\n",
       "      <td>2023</td>\n",
       "      <td>7</td>\n",
       "      <td>30</td>\n",
       "      <td>2023-07-30</td>\n",
       "      <td>1</td>\n",
       "      <td>1</td>\n",
       "      <td>14</td>\n",
       "      <td>2</td>\n",
       "      <td>37</td>\n",
       "      <td>0.0</td>\n",
       "      <td>...</td>\n",
       "      <td>0</td>\n",
       "      <td>86400</td>\n",
       "      <td>0</td>\n",
       "      <td>0.0</td>\n",
       "      <td>0</td>\n",
       "      <td>3</td>\n",
       "      <td>102.02</td>\n",
       "      <td>80.06</td>\n",
       "      <td>0.0</td>\n",
       "      <td>0.0</td>\n",
       "    </tr>\n",
       "    <tr>\n",
       "      <th>2</th>\n",
       "      <td>2023</td>\n",
       "      <td>7</td>\n",
       "      <td>30</td>\n",
       "      <td>2023-07-30</td>\n",
       "      <td>1</td>\n",
       "      <td>1</td>\n",
       "      <td>18</td>\n",
       "      <td>2</td>\n",
       "      <td>41</td>\n",
       "      <td>0.0</td>\n",
       "      <td>...</td>\n",
       "      <td>0</td>\n",
       "      <td>86400</td>\n",
       "      <td>0</td>\n",
       "      <td>0.0</td>\n",
       "      <td>0</td>\n",
       "      <td>3</td>\n",
       "      <td>102.02</td>\n",
       "      <td>80.06</td>\n",
       "      <td>0.0</td>\n",
       "      <td>0.0</td>\n",
       "    </tr>\n",
       "    <tr>\n",
       "      <th>3</th>\n",
       "      <td>2023</td>\n",
       "      <td>7</td>\n",
       "      <td>30</td>\n",
       "      <td>2023-07-30</td>\n",
       "      <td>1</td>\n",
       "      <td>1</td>\n",
       "      <td>13</td>\n",
       "      <td>2</td>\n",
       "      <td>10</td>\n",
       "      <td>0.0</td>\n",
       "      <td>...</td>\n",
       "      <td>0</td>\n",
       "      <td>86400</td>\n",
       "      <td>0</td>\n",
       "      <td>0.0</td>\n",
       "      <td>0</td>\n",
       "      <td>3</td>\n",
       "      <td>102.02</td>\n",
       "      <td>80.06</td>\n",
       "      <td>0.0</td>\n",
       "      <td>0.0</td>\n",
       "    </tr>\n",
       "    <tr>\n",
       "      <th>4</th>\n",
       "      <td>2023</td>\n",
       "      <td>7</td>\n",
       "      <td>30</td>\n",
       "      <td>2023-07-30</td>\n",
       "      <td>1</td>\n",
       "      <td>1</td>\n",
       "      <td>13</td>\n",
       "      <td>4</td>\n",
       "      <td>12</td>\n",
       "      <td>0.0</td>\n",
       "      <td>...</td>\n",
       "      <td>0</td>\n",
       "      <td>86400</td>\n",
       "      <td>0</td>\n",
       "      <td>0.0</td>\n",
       "      <td>0</td>\n",
       "      <td>3</td>\n",
       "      <td>102.02</td>\n",
       "      <td>80.06</td>\n",
       "      <td>0.0</td>\n",
       "      <td>0.0</td>\n",
       "    </tr>\n",
       "  </tbody>\n",
       "</table>\n",
       "<p>5 rows × 54 columns</p>\n",
       "</div>"
      ],
      "text/plain": [
       "   year  month  day        date  rack  shelf  slot  port  ont  berDownstream  \\\n",
       "0  2023      7   30  2023-07-30     1      1    14     2   43            0.0   \n",
       "1  2023      7   30  2023-07-30     1      1    14     2   37            0.0   \n",
       "2  2023      7   30  2023-07-30     1      1    18     2   41            0.0   \n",
       "3  2023      7   30  2023-07-30     1      1    13     2   10            0.0   \n",
       "4  2023      7   30  2023-07-30     1      1    13     4   12            0.0   \n",
       "\n",
       "   ...  Alarm_SECS  Session_SECS  total_stops  TSO_calls_count  SA_TSO  score  \\\n",
       "0  ...           0         86400            0              0.0       0      3   \n",
       "1  ...           0         86400            0              0.0       0      3   \n",
       "2  ...           0         86400            0              0.0       0      3   \n",
       "3  ...           0         86400            0              0.0       0      3   \n",
       "4  ...           0         86400            0              0.0       0      3   \n",
       "\n",
       "     TMAX   TMIN PRCP SNOW  \n",
       "0  102.02  80.06  0.0  0.0  \n",
       "1  102.02  80.06  0.0  0.0  \n",
       "2  102.02  80.06  0.0  0.0  \n",
       "3  102.02  80.06  0.0  0.0  \n",
       "4  102.02  80.06  0.0  0.0  \n",
       "\n",
       "[5 rows x 54 columns]"
      ]
     },
     "execution_count": 80,
     "metadata": {},
     "output_type": "execute_result"
    }
   ],
   "source": [
    "df.head()"
   ]
  },
  {
   "cell_type": "code",
   "execution_count": 81,
   "id": "293a5977",
   "metadata": {},
   "outputs": [],
   "source": [
    "from sklearn.preprocessing import StandardScaler"
   ]
  },
  {
   "cell_type": "code",
   "execution_count": 82,
   "id": "fdafad5b",
   "metadata": {},
   "outputs": [
    {
     "data": {
      "text/plain": [
       "StandardScaler()"
      ]
     },
     "execution_count": 82,
     "metadata": {},
     "output_type": "execute_result"
    }
   ],
   "source": [
    "def convert_to_int(value):\n",
    "    try:\n",
    "        return float(value)  # Convert numeric values to int\n",
    "    except:\n",
    "        return sum(ord(char) for char in value)\n",
    "\n",
    "df = df.applymap(convert_to_int)\n",
    "\n",
    "scaler = StandardScaler()\n",
    "scaler.fit(df)"
   ]
  },
  {
   "cell_type": "code",
   "execution_count": 83,
   "id": "661117c8",
   "metadata": {},
   "outputs": [],
   "source": [
    "scaled_data = scaler.transform(df)"
   ]
  },
  {
   "cell_type": "code",
   "execution_count": 84,
   "id": "8edaa891",
   "metadata": {},
   "outputs": [],
   "source": [
    "from sklearn.decomposition import PCA"
   ]
  },
  {
   "cell_type": "code",
   "execution_count": 85,
   "id": "749c61ff",
   "metadata": {},
   "outputs": [],
   "source": [
    "pca = PCA(n_components=20)"
   ]
  },
  {
   "cell_type": "code",
   "execution_count": 86,
   "id": "6ecdaea2",
   "metadata": {},
   "outputs": [
    {
     "data": {
      "text/plain": [
       "PCA(n_components=20)"
      ]
     },
     "execution_count": 86,
     "metadata": {},
     "output_type": "execute_result"
    }
   ],
   "source": [
    "pca.fit(scaled_data)"
   ]
  },
  {
   "cell_type": "code",
   "execution_count": 87,
   "id": "c8e7f681",
   "metadata": {},
   "outputs": [],
   "source": [
    "x_pca = pca.transform(scaled_data)"
   ]
  },
  {
   "cell_type": "code",
   "execution_count": 88,
   "id": "089c96f9",
   "metadata": {},
   "outputs": [
    {
     "data": {
      "text/plain": [
       "(63075, 54)"
      ]
     },
     "execution_count": 88,
     "metadata": {},
     "output_type": "execute_result"
    }
   ],
   "source": [
    "scaled_data.shape"
   ]
  },
  {
   "cell_type": "code",
   "execution_count": 89,
   "id": "b1d73bf7",
   "metadata": {},
   "outputs": [
    {
     "data": {
      "text/plain": [
       "(63075, 20)"
      ]
     },
     "execution_count": 89,
     "metadata": {},
     "output_type": "execute_result"
    }
   ],
   "source": [
    "x_pca.shape"
   ]
  },
  {
   "cell_type": "code",
   "execution_count": 90,
   "id": "773352a4",
   "metadata": {},
   "outputs": [
    {
     "data": {
      "text/plain": [
       "Text(0, 0.5, 'Second Principal Component')"
      ]
     },
     "execution_count": 90,
     "metadata": {},
     "output_type": "execute_result"
    },
    {
     "data": {
      "image/png": "[encoded data removed]",
      "text/plain": [
       "<Figure size 576x432 with 1 Axes>"
      ]
     },
     "metadata": {
      "needs_background": "light"
     },
     "output_type": "display_data"
    }
   ],
   "source": [
    "plt.figure(figsize=(8,6))\n",
    "plt.scatter(x_pca[:,0],x_pca[:,1],cmap='plasma')\n",
    "plt.xlabel('First principal component')\n",
    "plt.ylabel('Second Principal Component')"
   ]
  },
  {
   "cell_type": "code",
   "execution_count": 91,
   "id": "662e5156",
   "metadata": {
    "scrolled": true
   },
   "outputs": [],
   "source": [
    "from sklearn.model_selection import train_test_split\n",
    "X_train, X_test, Y_train, Y_test = train_test_split (df,service, test_size=0.99,random_state =21)"
   ]
  },
  {
   "cell_type": "code",
   "execution_count": 92,
   "id": "4cf7fd1d",
   "metadata": {},
   "outputs": [],
   "source": [
    "from sklearn.linear_model import LogisticRegression"
   ]
  },
  {
   "cell_type": "code",
   "execution_count": 93,
   "id": "61d0f2c3",
   "metadata": {
    "scrolled": true
   },
   "outputs": [
    {
     "name": "stderr",
     "output_type": "stream",
     "text": [
      "/Users/az/opt/anaconda3/lib/python3.9/site-packages/sklearn/utils/validation.py:993: DataConversionWarning: A column-vector y was passed when a 1d array was expected. Please change the shape of y to (n_samples, ), for example using ravel().\n",
      "  y = column_or_1d(y, warn=True)\n"
     ]
    }
   ],
   "source": [
    "log_reg=LogisticRegression(random_state = 0).fit(x_pca, service)"
   ]
  },
  {
   "cell_type": "code",
   "execution_count": 94,
   "id": "d9911f31",
   "metadata": {
    "scrolled": true
   },
   "outputs": [],
   "source": [
    "#log_reg.predict(X_train_s)"
   ]
  },
  {
   "cell_type": "code",
   "execution_count": 95,
   "id": "614e1d68",
   "metadata": {},
   "outputs": [],
   "source": [
    "#log_reg.score(X_train_s,Y_train)"
   ]
  },
  {
   "cell_type": "code",
   "execution_count": 96,
   "id": "4c26872c",
   "metadata": {},
   "outputs": [],
   "source": [
    "#log_reg.score(X_test_s,Y_test)"
   ]
  },
  {
   "cell_type": "code",
   "execution_count": 97,
   "id": "ad3cc363",
   "metadata": {
    "scrolled": false
   },
   "outputs": [
    {
     "data": {
      "text/plain": [
       "\"\\ndef convert_to_int(value):\\n    try:\\n        return float(value)  # Convert numeric values to int\\n    except:\\n        return sum(ord(char) for char in value)\\n\\nctd=['Customer', 'clli','objectName','objectType']\\ntests = tests.drop(ctd,axis=1)\\ntests= tests.fillna(0)\\n\\n\\n\\ndt = tests.applymap(convert_to_int)\\n\\nscaler = StandardScaler()\\nscaler.fit(dt)\\n\""
      ]
     },
     "execution_count": 97,
     "metadata": {},
     "output_type": "execute_result"
    }
   ],
   "source": [
    "'''\n",
    "def convert_to_int(value):\n",
    "    try:\n",
    "        return float(value)  # Convert numeric values to int\n",
    "    except:\n",
    "        return sum(ord(char) for char in value)\n",
    "\n",
    "ctd=['Customer', 'clli','objectName','objectType']\n",
    "tests = tests.drop(ctd,axis=1)\n",
    "tests= tests.fillna(0)\n",
    "\n",
    "\n",
    "\n",
    "dt = tests.applymap(convert_to_int)\n",
    "\n",
    "scaler = StandardScaler()\n",
    "scaler.fit(dt)\n",
    "'''\n",
    "\n"
   ]
  },
  {
   "cell_type": "code",
   "execution_count": 98,
   "id": "ac652a8b",
   "metadata": {},
   "outputs": [],
   "source": [
    "#print(log_reg.predict(dt))"
   ]
  },
  {
   "cell_type": "code",
   "execution_count": 99,
   "id": "eedd50d1",
   "metadata": {},
   "outputs": [
    {
     "data": {
      "text/plain": [
       "['jame.joblib']"
      ]
     },
     "execution_count": 99,
     "metadata": {},
     "output_type": "execute_result"
    }
   ],
   "source": [
    "from joblib import dump, load\n",
    "dump(log_reg, 'jame.joblib') "
   ]
  },
  {
   "cell_type": "code",
   "execution_count": null,
   "id": "87ed9b5b",
   "metadata": {},
   "outputs": [],
   "source": []
  }
 ],
 "metadata": {
  "kernelspec": {
   "display_name": "Python 3 (ipykernel)",
   "language": "python",
   "name": "python3"
  },
  "language_info": {
   "codemirror_mode": {
    "name": "ipython",
    "version": 3
   },
   "file_extension": ".py",
   "mimetype": "text/x-python",
   "name": "python",
   "nbconvert_exporter": "python",
   "pygments_lexer": "ipython3",
   "version": "3.9.12"
  }
 },
 "nbformat": 4,
 "nbformat_minor": 5
}
