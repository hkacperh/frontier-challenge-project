{
 "cells": [
  {
   "cell_type": "code",
   "execution_count": 1,
   "id": "70729030",
   "metadata": {},
   "outputs": [],
   "source": [
    "#https://github.com/krishnaik06/Dimesnsionality-Reduction/blob/master/01-Principal%20Component%20Analysis.ipynb\n",
    "import matplotlib.pyplot as plt\n",
    "import pandas as pd\n",
    "import numpy as np\n",
    "import seaborn as sns\n",
    "%matplotlib inline\n",
    "from sklearn.preprocessing import StandardScaler\n",
    "from sklearn.model_selection import train_test_split\n",
    "from sklearn.linear_model import LogisticRegression"
   ]
  },
  {
   "cell_type": "code",
   "execution_count": 2,
   "id": "e23b049e",
   "metadata": {},
   "outputs": [
    {
     "name": "stderr",
     "output_type": "stream",
     "text": [
      "/var/folders/tc/3zj6b_yn0db6yslr5bqvsvm00000gn/T/ipykernel_36330/2906612121.py:1: DtypeWarning: Columns (25) have mixed types. Specify dtype option on import or set low_memory=False.\n",
      "  sheet = pd.read_csv('/Users/az/Desktop/training_data.csv')\n"
     ]
    }
   ],
   "source": [
    "sheet = pd.read_csv('/Users/az/Desktop/training_data.csv')\n",
    "tests = pd.read_csv('/Users/az/Desktop/test_data.csv')"
   ]
  },
  {
   "cell_type": "code",
   "execution_count": 3,
   "id": "b19df140",
   "metadata": {},
   "outputs": [],
   "source": [
    "customer = sheet.loc[:, ['Customer']]\n",
    "service=sheet.loc[:,['service_repair']] #testing Var\n",
    "#print (customer)\n",
    "\n",
    "service= service.fillna(0)"
   ]
  },
  {
   "cell_type": "code",
   "execution_count": 4,
   "id": "a53bd28e",
   "metadata": {},
   "outputs": [],
   "source": [
    "#cancer = load_breast_cancer()\n",
    "columns_to_drop = ['Customer', 'clli','objectName','objectType','service_repair','REPORT_DATE']\n",
    "\n",
    "\n",
    "sheet = sheet.drop(columns_to_drop,axis=1)\n",
    "sheet= sheet.fillna(0)"
   ]
  },
  {
   "cell_type": "code",
   "execution_count": 5,
   "id": "cfbe1740",
   "metadata": {},
   "outputs": [],
   "source": [
    "df = pd.DataFrame(sheet)"
   ]
  },
  {
   "cell_type": "code",
   "execution_count": 6,
   "id": "8ea83525",
   "metadata": {},
   "outputs": [
    {
     "data": {
      "text/plain": [
       "StandardScaler()"
      ]
     },
     "execution_count": 6,
     "metadata": {},
     "output_type": "execute_result"
    }
   ],
   "source": [
    "def convert_to_int(value):\n",
    "    try:\n",
    "        return float(value)  # Convert numeric values to int\n",
    "    except:\n",
    "        return sum(ord(char) for char in value)\n",
    "\n",
    "df = df.applymap(convert_to_int)\n",
    "\n",
    "scaler = StandardScaler()\n",
    "scaler.fit(df)"
   ]
  },
  {
   "cell_type": "code",
   "execution_count": 7,
   "id": "75f0e1a3",
   "metadata": {},
   "outputs": [],
   "source": [
    "X_train, X_test, Y_train, Y_test = train_test_split (df,service, test_size=0.3,random_state =21)"
   ]
  },
  {
   "cell_type": "code",
   "execution_count": 8,
   "id": "5d92d7d1",
   "metadata": {},
   "outputs": [],
   "source": [
    "scaler = StandardScaler()\n",
    "X_train_s=scaler.fit_transform(X_train)\n",
    "X_test_s=scaler.transform(X_test)"
   ]
  },
  {
   "cell_type": "code",
   "execution_count": 9,
   "id": "9cad6c9e",
   "metadata": {},
   "outputs": [
    {
     "name": "stderr",
     "output_type": "stream",
     "text": [
      "/Users/az/opt/anaconda3/lib/python3.9/site-packages/sklearn/utils/validation.py:993: DataConversionWarning: A column-vector y was passed when a 1d array was expected. Please change the shape of y to (n_samples, ), for example using ravel().\n",
      "  y = column_or_1d(y, warn=True)\n",
      "/Users/az/opt/anaconda3/lib/python3.9/site-packages/sklearn/linear_model/_logistic.py:814: ConvergenceWarning: lbfgs failed to converge (status=1):\n",
      "STOP: TOTAL NO. of ITERATIONS REACHED LIMIT.\n",
      "\n",
      "Increase the number of iterations (max_iter) or scale the data as shown in:\n",
      "    https://scikit-learn.org/stable/modules/preprocessing.html\n",
      "Please also refer to the documentation for alternative solver options:\n",
      "    https://scikit-learn.org/stable/modules/linear_model.html#logistic-regression\n",
      "  n_iter_i = _check_optimize_result(\n"
     ]
    }
   ],
   "source": [
    "log_reg=LogisticRegression(random_state = 0).fit(X_train_s, Y_train)"
   ]
  },
  {
   "cell_type": "code",
   "execution_count": 10,
   "id": "a625e8c5",
   "metadata": {},
   "outputs": [
    {
     "data": {
      "text/plain": [
       "array([0., 0., 0., ..., 0., 0., 0.])"
      ]
     },
     "execution_count": 10,
     "metadata": {},
     "output_type": "execute_result"
    }
   ],
   "source": [
    "log_reg.predict(X_train_s)"
   ]
  },
  {
   "cell_type": "code",
   "execution_count": 11,
   "id": "97c22fe5",
   "metadata": {
    "scrolled": true
   },
   "outputs": [
    {
     "data": {
      "text/plain": [
       "0.9772830222866461"
      ]
     },
     "execution_count": 11,
     "metadata": {},
     "output_type": "execute_result"
    }
   ],
   "source": [
    "log_reg.score(X_train_s,Y_train)"
   ]
  },
  {
   "cell_type": "code",
   "execution_count": 12,
   "id": "97fb16cd",
   "metadata": {},
   "outputs": [
    {
     "data": {
      "text/plain": [
       "0.9788088569465729"
      ]
     },
     "execution_count": 12,
     "metadata": {},
     "output_type": "execute_result"
    }
   ],
   "source": [
    "log_reg.score(X_test_s,Y_test)"
   ]
  },
  {
   "cell_type": "code",
   "execution_count": 13,
   "id": "29c3d08c",
   "metadata": {},
   "outputs": [
    {
     "data": {
      "text/plain": [
       "['log_reg.joblib']"
      ]
     },
     "execution_count": 13,
     "metadata": {},
     "output_type": "execute_result"
    }
   ],
   "source": [
    "from joblib import dump, load\n",
    "dump(log_reg, 'log_reg.joblib') "
   ]
  },
  {
   "cell_type": "code",
   "execution_count": 40,
   "id": "16922a4e",
   "metadata": {
    "scrolled": false
   },
   "outputs": [
    {
     "name": "stderr",
     "output_type": "stream",
     "text": [
      "/var/folders/tc/3zj6b_yn0db6yslr5bqvsvm00000gn/T/ipykernel_36330/4236158867.py:9: DtypeWarning: Columns (25) have mixed types. Specify dtype option on import or set low_memory=False.\n",
      "  A=pd.read_csv('/Users/az/Desktop/training_data.csv')\n",
      "/var/folders/tc/3zj6b_yn0db6yslr5bqvsvm00000gn/T/ipykernel_36330/4236158867.py:18: FutureWarning: The frame.append method is deprecated and will be removed from pandas in a future version. Use pandas.concat instead.\n",
      "  B=B.append(row, ignore_index=True)\n",
      "/var/folders/tc/3zj6b_yn0db6yslr5bqvsvm00000gn/T/ipykernel_36330/4236158867.py:18: FutureWarning: The frame.append method is deprecated and will be removed from pandas in a future version. Use pandas.concat instead.\n",
      "  B=B.append(row, ignore_index=True)\n",
      "/var/folders/tc/3zj6b_yn0db6yslr5bqvsvm00000gn/T/ipykernel_36330/4236158867.py:18: FutureWarning: The frame.append method is deprecated and will be removed from pandas in a future version. Use pandas.concat instead.\n",
      "  B=B.append(row, ignore_index=True)\n",
      "/var/folders/tc/3zj6b_yn0db6yslr5bqvsvm00000gn/T/ipykernel_36330/4236158867.py:18: FutureWarning: The frame.append method is deprecated and will be removed from pandas in a future version. Use pandas.concat instead.\n",
      "  B=B.append(row, ignore_index=True)\n",
      "/var/folders/tc/3zj6b_yn0db6yslr5bqvsvm00000gn/T/ipykernel_36330/4236158867.py:18: FutureWarning: The frame.append method is deprecated and will be removed from pandas in a future version. Use pandas.concat instead.\n",
      "  B=B.append(row, ignore_index=True)\n",
      "/var/folders/tc/3zj6b_yn0db6yslr5bqvsvm00000gn/T/ipykernel_36330/4236158867.py:18: FutureWarning: The frame.append method is deprecated and will be removed from pandas in a future version. Use pandas.concat instead.\n",
      "  B=B.append(row, ignore_index=True)\n",
      "/var/folders/tc/3zj6b_yn0db6yslr5bqvsvm00000gn/T/ipykernel_36330/4236158867.py:18: FutureWarning: The frame.append method is deprecated and will be removed from pandas in a future version. Use pandas.concat instead.\n",
      "  B=B.append(row, ignore_index=True)\n",
      "/var/folders/tc/3zj6b_yn0db6yslr5bqvsvm00000gn/T/ipykernel_36330/4236158867.py:18: FutureWarning: The frame.append method is deprecated and will be removed from pandas in a future version. Use pandas.concat instead.\n",
      "  B=B.append(row, ignore_index=True)\n",
      "/var/folders/tc/3zj6b_yn0db6yslr5bqvsvm00000gn/T/ipykernel_36330/4236158867.py:18: FutureWarning: The frame.append method is deprecated and will be removed from pandas in a future version. Use pandas.concat instead.\n",
      "  B=B.append(row, ignore_index=True)\n",
      "/var/folders/tc/3zj6b_yn0db6yslr5bqvsvm00000gn/T/ipykernel_36330/4236158867.py:18: FutureWarning: The frame.append method is deprecated and will be removed from pandas in a future version. Use pandas.concat instead.\n",
      "  B=B.append(row, ignore_index=True)\n",
      "/var/folders/tc/3zj6b_yn0db6yslr5bqvsvm00000gn/T/ipykernel_36330/4236158867.py:18: FutureWarning: The frame.append method is deprecated and will be removed from pandas in a future version. Use pandas.concat instead.\n",
      "  B=B.append(row, ignore_index=True)\n",
      "/var/folders/tc/3zj6b_yn0db6yslr5bqvsvm00000gn/T/ipykernel_36330/4236158867.py:18: FutureWarning: The frame.append method is deprecated and will be removed from pandas in a future version. Use pandas.concat instead.\n",
      "  B=B.append(row, ignore_index=True)\n",
      "/var/folders/tc/3zj6b_yn0db6yslr5bqvsvm00000gn/T/ipykernel_36330/4236158867.py:18: FutureWarning: The frame.append method is deprecated and will be removed from pandas in a future version. Use pandas.concat instead.\n",
      "  B=B.append(row, ignore_index=True)\n",
      "/var/folders/tc/3zj6b_yn0db6yslr5bqvsvm00000gn/T/ipykernel_36330/4236158867.py:18: FutureWarning: The frame.append method is deprecated and will be removed from pandas in a future version. Use pandas.concat instead.\n",
      "  B=B.append(row, ignore_index=True)\n",
      "/var/folders/tc/3zj6b_yn0db6yslr5bqvsvm00000gn/T/ipykernel_36330/4236158867.py:18: FutureWarning: The frame.append method is deprecated and will be removed from pandas in a future version. Use pandas.concat instead.\n",
      "  B=B.append(row, ignore_index=True)\n",
      "/var/folders/tc/3zj6b_yn0db6yslr5bqvsvm00000gn/T/ipykernel_36330/4236158867.py:18: FutureWarning: The frame.append method is deprecated and will be removed from pandas in a future version. Use pandas.concat instead.\n",
      "  B=B.append(row, ignore_index=True)\n",
      "/var/folders/tc/3zj6b_yn0db6yslr5bqvsvm00000gn/T/ipykernel_36330/4236158867.py:18: FutureWarning: The frame.append method is deprecated and will be removed from pandas in a future version. Use pandas.concat instead.\n",
      "  B=B.append(row, ignore_index=True)\n",
      "/var/folders/tc/3zj6b_yn0db6yslr5bqvsvm00000gn/T/ipykernel_36330/4236158867.py:18: FutureWarning: The frame.append method is deprecated and will be removed from pandas in a future version. Use pandas.concat instead.\n",
      "  B=B.append(row, ignore_index=True)\n",
      "/var/folders/tc/3zj6b_yn0db6yslr5bqvsvm00000gn/T/ipykernel_36330/4236158867.py:18: FutureWarning: The frame.append method is deprecated and will be removed from pandas in a future version. Use pandas.concat instead.\n",
      "  B=B.append(row, ignore_index=True)\n",
      "/var/folders/tc/3zj6b_yn0db6yslr5bqvsvm00000gn/T/ipykernel_36330/4236158867.py:18: FutureWarning: The frame.append method is deprecated and will be removed from pandas in a future version. Use pandas.concat instead.\n",
      "  B=B.append(row, ignore_index=True)\n",
      "/var/folders/tc/3zj6b_yn0db6yslr5bqvsvm00000gn/T/ipykernel_36330/4236158867.py:18: FutureWarning: The frame.append method is deprecated and will be removed from pandas in a future version. Use pandas.concat instead.\n",
      "  B=B.append(row, ignore_index=True)\n",
      "/var/folders/tc/3zj6b_yn0db6yslr5bqvsvm00000gn/T/ipykernel_36330/4236158867.py:18: FutureWarning: The frame.append method is deprecated and will be removed from pandas in a future version. Use pandas.concat instead.\n",
      "  B=B.append(row, ignore_index=True)\n",
      "/var/folders/tc/3zj6b_yn0db6yslr5bqvsvm00000gn/T/ipykernel_36330/4236158867.py:18: FutureWarning: The frame.append method is deprecated and will be removed from pandas in a future version. Use pandas.concat instead.\n",
      "  B=B.append(row, ignore_index=True)\n",
      "/var/folders/tc/3zj6b_yn0db6yslr5bqvsvm00000gn/T/ipykernel_36330/4236158867.py:18: FutureWarning: The frame.append method is deprecated and will be removed from pandas in a future version. Use pandas.concat instead.\n",
      "  B=B.append(row, ignore_index=True)\n",
      "/var/folders/tc/3zj6b_yn0db6yslr5bqvsvm00000gn/T/ipykernel_36330/4236158867.py:18: FutureWarning: The frame.append method is deprecated and will be removed from pandas in a future version. Use pandas.concat instead.\n",
      "  B=B.append(row, ignore_index=True)\n",
      "/var/folders/tc/3zj6b_yn0db6yslr5bqvsvm00000gn/T/ipykernel_36330/4236158867.py:18: FutureWarning: The frame.append method is deprecated and will be removed from pandas in a future version. Use pandas.concat instead.\n",
      "  B=B.append(row, ignore_index=True)\n",
      "/var/folders/tc/3zj6b_yn0db6yslr5bqvsvm00000gn/T/ipykernel_36330/4236158867.py:18: FutureWarning: The frame.append method is deprecated and will be removed from pandas in a future version. Use pandas.concat instead.\n",
      "  B=B.append(row, ignore_index=True)\n",
      "/var/folders/tc/3zj6b_yn0db6yslr5bqvsvm00000gn/T/ipykernel_36330/4236158867.py:18: FutureWarning: The frame.append method is deprecated and will be removed from pandas in a future version. Use pandas.concat instead.\n",
      "  B=B.append(row, ignore_index=True)\n",
      "/var/folders/tc/3zj6b_yn0db6yslr5bqvsvm00000gn/T/ipykernel_36330/4236158867.py:18: FutureWarning: The frame.append method is deprecated and will be removed from pandas in a future version. Use pandas.concat instead.\n",
      "  B=B.append(row, ignore_index=True)\n",
      "/var/folders/tc/3zj6b_yn0db6yslr5bqvsvm00000gn/T/ipykernel_36330/4236158867.py:18: FutureWarning: The frame.append method is deprecated and will be removed from pandas in a future version. Use pandas.concat instead.\n",
      "  B=B.append(row, ignore_index=True)\n",
      "/var/folders/tc/3zj6b_yn0db6yslr5bqvsvm00000gn/T/ipykernel_36330/4236158867.py:18: FutureWarning: The frame.append method is deprecated and will be removed from pandas in a future version. Use pandas.concat instead.\n",
      "  B=B.append(row, ignore_index=True)\n",
      "/var/folders/tc/3zj6b_yn0db6yslr5bqvsvm00000gn/T/ipykernel_36330/4236158867.py:25: FutureWarning: The frame.append method is deprecated and will be removed from pandas in a future version. Use pandas.concat instead.\n",
      "  B=B.append(row, ignore_index=True)\n",
      "/var/folders/tc/3zj6b_yn0db6yslr5bqvsvm00000gn/T/ipykernel_36330/4236158867.py:25: FutureWarning: The frame.append method is deprecated and will be removed from pandas in a future version. Use pandas.concat instead.\n",
      "  B=B.append(row, ignore_index=True)\n",
      "/var/folders/tc/3zj6b_yn0db6yslr5bqvsvm00000gn/T/ipykernel_36330/4236158867.py:25: FutureWarning: The frame.append method is deprecated and will be removed from pandas in a future version. Use pandas.concat instead.\n",
      "  B=B.append(row, ignore_index=True)\n",
      "/var/folders/tc/3zj6b_yn0db6yslr5bqvsvm00000gn/T/ipykernel_36330/4236158867.py:25: FutureWarning: The frame.append method is deprecated and will be removed from pandas in a future version. Use pandas.concat instead.\n",
      "  B=B.append(row, ignore_index=True)\n",
      "/var/folders/tc/3zj6b_yn0db6yslr5bqvsvm00000gn/T/ipykernel_36330/4236158867.py:25: FutureWarning: The frame.append method is deprecated and will be removed from pandas in a future version. Use pandas.concat instead.\n",
      "  B=B.append(row, ignore_index=True)\n",
      "/var/folders/tc/3zj6b_yn0db6yslr5bqvsvm00000gn/T/ipykernel_36330/4236158867.py:25: FutureWarning: The frame.append method is deprecated and will be removed from pandas in a future version. Use pandas.concat instead.\n",
      "  B=B.append(row, ignore_index=True)\n",
      "/var/folders/tc/3zj6b_yn0db6yslr5bqvsvm00000gn/T/ipykernel_36330/4236158867.py:25: FutureWarning: The frame.append method is deprecated and will be removed from pandas in a future version. Use pandas.concat instead.\n",
      "  B=B.append(row, ignore_index=True)\n",
      "/var/folders/tc/3zj6b_yn0db6yslr5bqvsvm00000gn/T/ipykernel_36330/4236158867.py:25: FutureWarning: The frame.append method is deprecated and will be removed from pandas in a future version. Use pandas.concat instead.\n",
      "  B=B.append(row, ignore_index=True)\n",
      "/var/folders/tc/3zj6b_yn0db6yslr5bqvsvm00000gn/T/ipykernel_36330/4236158867.py:25: FutureWarning: The frame.append method is deprecated and will be removed from pandas in a future version. Use pandas.concat instead.\n",
      "  B=B.append(row, ignore_index=True)\n",
      "/var/folders/tc/3zj6b_yn0db6yslr5bqvsvm00000gn/T/ipykernel_36330/4236158867.py:25: FutureWarning: The frame.append method is deprecated and will be removed from pandas in a future version. Use pandas.concat instead.\n",
      "  B=B.append(row, ignore_index=True)\n"
     ]
    },
    {
     "name": "stderr",
     "output_type": "stream",
     "text": [
      "/var/folders/tc/3zj6b_yn0db6yslr5bqvsvm00000gn/T/ipykernel_36330/4236158867.py:25: FutureWarning: The frame.append method is deprecated and will be removed from pandas in a future version. Use pandas.concat instead.\n",
      "  B=B.append(row, ignore_index=True)\n",
      "/var/folders/tc/3zj6b_yn0db6yslr5bqvsvm00000gn/T/ipykernel_36330/4236158867.py:25: FutureWarning: The frame.append method is deprecated and will be removed from pandas in a future version. Use pandas.concat instead.\n",
      "  B=B.append(row, ignore_index=True)\n",
      "/var/folders/tc/3zj6b_yn0db6yslr5bqvsvm00000gn/T/ipykernel_36330/4236158867.py:25: FutureWarning: The frame.append method is deprecated and will be removed from pandas in a future version. Use pandas.concat instead.\n",
      "  B=B.append(row, ignore_index=True)\n",
      "/var/folders/tc/3zj6b_yn0db6yslr5bqvsvm00000gn/T/ipykernel_36330/4236158867.py:25: FutureWarning: The frame.append method is deprecated and will be removed from pandas in a future version. Use pandas.concat instead.\n",
      "  B=B.append(row, ignore_index=True)\n",
      "/var/folders/tc/3zj6b_yn0db6yslr5bqvsvm00000gn/T/ipykernel_36330/4236158867.py:25: FutureWarning: The frame.append method is deprecated and will be removed from pandas in a future version. Use pandas.concat instead.\n",
      "  B=B.append(row, ignore_index=True)\n",
      "/var/folders/tc/3zj6b_yn0db6yslr5bqvsvm00000gn/T/ipykernel_36330/4236158867.py:25: FutureWarning: The frame.append method is deprecated and will be removed from pandas in a future version. Use pandas.concat instead.\n",
      "  B=B.append(row, ignore_index=True)\n",
      "/var/folders/tc/3zj6b_yn0db6yslr5bqvsvm00000gn/T/ipykernel_36330/4236158867.py:25: FutureWarning: The frame.append method is deprecated and will be removed from pandas in a future version. Use pandas.concat instead.\n",
      "  B=B.append(row, ignore_index=True)\n",
      "/var/folders/tc/3zj6b_yn0db6yslr5bqvsvm00000gn/T/ipykernel_36330/4236158867.py:25: FutureWarning: The frame.append method is deprecated and will be removed from pandas in a future version. Use pandas.concat instead.\n",
      "  B=B.append(row, ignore_index=True)\n",
      "/var/folders/tc/3zj6b_yn0db6yslr5bqvsvm00000gn/T/ipykernel_36330/4236158867.py:25: FutureWarning: The frame.append method is deprecated and will be removed from pandas in a future version. Use pandas.concat instead.\n",
      "  B=B.append(row, ignore_index=True)\n",
      "/var/folders/tc/3zj6b_yn0db6yslr5bqvsvm00000gn/T/ipykernel_36330/4236158867.py:25: FutureWarning: The frame.append method is deprecated and will be removed from pandas in a future version. Use pandas.concat instead.\n",
      "  B=B.append(row, ignore_index=True)\n",
      "/var/folders/tc/3zj6b_yn0db6yslr5bqvsvm00000gn/T/ipykernel_36330/4236158867.py:25: FutureWarning: The frame.append method is deprecated and will be removed from pandas in a future version. Use pandas.concat instead.\n",
      "  B=B.append(row, ignore_index=True)\n",
      "/var/folders/tc/3zj6b_yn0db6yslr5bqvsvm00000gn/T/ipykernel_36330/4236158867.py:25: FutureWarning: The frame.append method is deprecated and will be removed from pandas in a future version. Use pandas.concat instead.\n",
      "  B=B.append(row, ignore_index=True)\n",
      "/var/folders/tc/3zj6b_yn0db6yslr5bqvsvm00000gn/T/ipykernel_36330/4236158867.py:25: FutureWarning: The frame.append method is deprecated and will be removed from pandas in a future version. Use pandas.concat instead.\n",
      "  B=B.append(row, ignore_index=True)\n",
      "/var/folders/tc/3zj6b_yn0db6yslr5bqvsvm00000gn/T/ipykernel_36330/4236158867.py:25: FutureWarning: The frame.append method is deprecated and will be removed from pandas in a future version. Use pandas.concat instead.\n",
      "  B=B.append(row, ignore_index=True)\n",
      "/var/folders/tc/3zj6b_yn0db6yslr5bqvsvm00000gn/T/ipykernel_36330/4236158867.py:25: FutureWarning: The frame.append method is deprecated and will be removed from pandas in a future version. Use pandas.concat instead.\n",
      "  B=B.append(row, ignore_index=True)\n",
      "/var/folders/tc/3zj6b_yn0db6yslr5bqvsvm00000gn/T/ipykernel_36330/4236158867.py:25: FutureWarning: The frame.append method is deprecated and will be removed from pandas in a future version. Use pandas.concat instead.\n",
      "  B=B.append(row, ignore_index=True)\n",
      "/var/folders/tc/3zj6b_yn0db6yslr5bqvsvm00000gn/T/ipykernel_36330/4236158867.py:25: FutureWarning: The frame.append method is deprecated and will be removed from pandas in a future version. Use pandas.concat instead.\n",
      "  B=B.append(row, ignore_index=True)\n",
      "/var/folders/tc/3zj6b_yn0db6yslr5bqvsvm00000gn/T/ipykernel_36330/4236158867.py:25: FutureWarning: The frame.append method is deprecated and will be removed from pandas in a future version. Use pandas.concat instead.\n",
      "  B=B.append(row, ignore_index=True)\n",
      "/var/folders/tc/3zj6b_yn0db6yslr5bqvsvm00000gn/T/ipykernel_36330/4236158867.py:25: FutureWarning: The frame.append method is deprecated and will be removed from pandas in a future version. Use pandas.concat instead.\n",
      "  B=B.append(row, ignore_index=True)\n",
      "/var/folders/tc/3zj6b_yn0db6yslr5bqvsvm00000gn/T/ipykernel_36330/4236158867.py:25: FutureWarning: The frame.append method is deprecated and will be removed from pandas in a future version. Use pandas.concat instead.\n",
      "  B=B.append(row, ignore_index=True)\n"
     ]
    }
   ],
   "source": [
    "def convert_to_int(value):\n",
    "    try:\n",
    "        return float(value)  # Convert numeric values to int\n",
    "    except:\n",
    "        return sum(ord(char) for char in value)\n",
    "\n",
    "\n",
    "\n",
    "A=pd.read_csv('/Users/az/Desktop/training_data.csv')\n",
    "A = A.applymap(convert_to_int)\n",
    "B=pd.DataFrame()\n",
    "\n",
    "B = B.applymap(convert_to_int)\n",
    "\n",
    "for index, row in A.iterrows():\n",
    "    if row['service_repair'] == 1:\n",
    "        # Append the row to DataFrame B\n",
    "        B=B.append(row, ignore_index=True)\n",
    "        if (len(B)>30):break\n",
    "\n",
    "for index, row in A.iterrows():\n",
    "    \n",
    "    if row['service_repair'] != 1:\n",
    "        # Append the row to DataFrame B\n",
    "        B=B.append(row, ignore_index=True)\n",
    "        if (len(B)>60):break\n",
    "\n",
    "C=B.loc[:,['service_repair']]\n",
    "C= C.fillna(0)\n",
    "\n",
    "\n",
    "columns_to_drop = ['Customer', 'clli','objectName','service_repair','objectType','REPORT_DATE']\n",
    "B = B.drop(columns_to_drop,axis=1)\n",
    "B= B.fillna(0)\n"
   ]
  },
  {
   "cell_type": "code",
   "execution_count": 41,
   "id": "be78220c",
   "metadata": {
    "scrolled": true
   },
   "outputs": [
    {
     "name": "stderr",
     "output_type": "stream",
     "text": [
      "/Users/az/opt/anaconda3/lib/python3.9/site-packages/sklearn/base.py:443: UserWarning: X has feature names, but LogisticRegression was fitted without feature names\n",
      "  warnings.warn(\n"
     ]
    },
    {
     "data": {
      "text/plain": [
       "0.5245901639344263"
      ]
     },
     "execution_count": 41,
     "metadata": {},
     "output_type": "execute_result"
    }
   ],
   "source": [
    "log_reg.score(B,C)"
   ]
  },
  {
   "cell_type": "code",
   "execution_count": null,
   "id": "3f5cb29b",
   "metadata": {},
   "outputs": [],
   "source": []
  }
 ],
 "metadata": {
  "kernelspec": {
   "display_name": "Python 3 (ipykernel)",
   "language": "python",
   "name": "python3"
  },
  "language_info": {
   "codemirror_mode": {
    "name": "ipython",
    "version": 3
   },
   "file_extension": ".py",
   "mimetype": "text/x-python",
   "name": "python",
   "nbconvert_exporter": "python",
   "pygments_lexer": "ipython3",
   "version": "3.9.12"
  }
 },
 "nbformat": 4,
 "nbformat_minor": 5
}
